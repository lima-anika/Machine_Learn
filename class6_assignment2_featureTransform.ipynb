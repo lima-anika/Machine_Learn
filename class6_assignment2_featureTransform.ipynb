{
 "cells": [
  {
   "cell_type": "code",
   "execution_count": 1,
   "id": "4d6379d4",
   "metadata": {},
   "outputs": [],
   "source": [
    "import pandas as pd\n",
    "df = pd.read_csv(\"feature_transform_assignment2.csv\")\n",
    "x=df.copy()\n",
    "x1=df.copy()\n",
    "x2=df.copy()\n",
    "x3=df.copy()\n",
    "x4=df.copy()\n",
    "x5=df.copy()\n",
    "x6=df.copy()\n",
    "x7=df.copy()\n",
    "x8=df.copy()\n",
    "x9=df.copy()\n",
    "x10=df.copy()\n",
    "x11=df.copy()\n",
    "x12=df.copy()\n"
   ]
  },
  {
   "cell_type": "markdown",
   "id": "80b83a68",
   "metadata": {},
   "source": [
    "# Normalization\n",
    "\n"
   ]
  },
  {
   "cell_type": "markdown",
   "id": "8716d5fb",
   "metadata": {},
   "source": [
    "# sklearn"
   ]
  },
  {
   "cell_type": "code",
   "execution_count": 2,
   "id": "8764ea7b",
   "metadata": {},
   "outputs": [
    {
     "data": {
      "text/plain": [
       "array([[0.2],\n",
       "       [0.1],\n",
       "       [0.3],\n",
       "       [0.4],\n",
       "       [0.2],\n",
       "       [0.6],\n",
       "       [1. ],\n",
       "       [0. ],\n",
       "       [0.1]])"
      ]
     },
     "execution_count": 2,
     "metadata": {},
     "output_type": "execute_result"
    }
   ],
   "source": [
    "from sklearn.preprocessing import MinMaxScaler\n",
    "\n",
    "min_maxsclr=MinMaxScaler()\n",
    "x=min_maxsclr.fit_transform(x)\n",
    "x"
   ]
  },
  {
   "cell_type": "markdown",
   "id": "95edce8b",
   "metadata": {},
   "source": [
    "# manual"
   ]
  },
  {
   "cell_type": "code",
   "execution_count": 3,
   "id": "5176308d",
   "metadata": {},
   "outputs": [
    {
     "name": "stdout",
     "output_type": "stream",
     "text": [
      "   price\n",
      "0    0.2\n",
      "1    0.1\n",
      "2    0.3\n",
      "3    0.4\n",
      "4    0.2\n",
      "5    0.6\n",
      "6    1.0\n",
      "7    0.0\n",
      "8    0.1\n"
     ]
    }
   ],
   "source": [
    "min1=x1.min()\n",
    "max1=x1.max()\n",
    "\n",
    "for col in x1:\n",
    "    c2=x1[col]\n",
    "    \n",
    "    for i in range(len(c2)):\n",
    "        a=c2[i]\n",
    "        b=a-min1\n",
    "        d=max1-min1\n",
    "        e=b/d\n",
    "        c2[i]=e\n",
    "        \n",
    "    x1[col]=c2\n",
    "    \n",
    "print(x1)"
   ]
  },
  {
   "cell_type": "markdown",
   "id": "3d62649c",
   "metadata": {},
   "source": [
    "# Standardization"
   ]
  },
  {
   "cell_type": "markdown",
   "id": "7bcd7d58",
   "metadata": {},
   "source": [
    "# sklearn"
   ]
  },
  {
   "cell_type": "code",
   "execution_count": 4,
   "id": "1639701c",
   "metadata": {},
   "outputs": [
    {
     "data": {
      "text/plain": [
       "array([[-0.41635614],\n",
       "       [-0.75701116],\n",
       "       [-0.07570112],\n",
       "       [ 0.26495391],\n",
       "       [-0.41635614],\n",
       "       [ 0.94626396],\n",
       "       [ 2.30888405],\n",
       "       [-1.09766619],\n",
       "       [-0.75701116]])"
      ]
     },
     "execution_count": 4,
     "metadata": {},
     "output_type": "execute_result"
    }
   ],
   "source": [
    "from sklearn.preprocessing import StandardScaler\n",
    "scaler = StandardScaler()\n",
    "\n",
    "x2=scaler.fit_transform(x2)\n",
    "x2"
   ]
  },
  {
   "cell_type": "markdown",
   "id": "66edf759",
   "metadata": {},
   "source": [
    "# Manual"
   ]
  },
  {
   "cell_type": "code",
   "execution_count": 5,
   "id": "f3c38275",
   "metadata": {},
   "outputs": [
    {
     "name": "stdout",
     "output_type": "stream",
     "text": [
      "0   -0.416356\n",
      "1   -0.757011\n",
      "2   -0.075701\n",
      "3    0.264954\n",
      "4   -0.416356\n",
      "5    0.946264\n",
      "6    2.308884\n",
      "7   -1.097666\n",
      "8   -0.757011\n",
      "Name: price, dtype: float64\n"
     ]
    }
   ],
   "source": [
    "import math\n",
    "m=x3.mean()\n",
    "\n",
    "for col in x3:\n",
    "    c2=x3[col]\n",
    "    s=0\n",
    "    \n",
    "    for i in range(len(c2)):\n",
    "        a=c2[i]\n",
    "        \n",
    "        a=a-m\n",
    "        a=a*a\n",
    "        \n",
    "        s=s+a\n",
    "    s=s/len(c2)\n",
    "    \n",
    "    std=math.sqrt(s)\n",
    "    \n",
    "    for i in range(len(c2)):\n",
    "        a=c2[i]\n",
    "        c2[i]=(a-m)/std\n",
    "        \n",
    "    x3=c2\n",
    "    \n",
    "print(x3)"
   ]
  },
  {
   "cell_type": "markdown",
   "id": "b6c45742",
   "metadata": {},
   "source": [
    "# Log Transformation"
   ]
  },
  {
   "cell_type": "markdown",
   "id": "ea719c20",
   "metadata": {},
   "source": [
    "# sklearn"
   ]
  },
  {
   "cell_type": "code",
   "execution_count": 6,
   "id": "e37415de",
   "metadata": {},
   "outputs": [
    {
     "data": {
      "text/html": [
       "<div>\n",
       "<style scoped>\n",
       "    .dataframe tbody tr th:only-of-type {\n",
       "        vertical-align: middle;\n",
       "    }\n",
       "\n",
       "    .dataframe tbody tr th {\n",
       "        vertical-align: top;\n",
       "    }\n",
       "\n",
       "    .dataframe thead th {\n",
       "        text-align: right;\n",
       "    }\n",
       "</style>\n",
       "<table border=\"1\" class=\"dataframe\">\n",
       "  <thead>\n",
       "    <tr style=\"text-align: right;\">\n",
       "      <th></th>\n",
       "      <th>price</th>\n",
       "    </tr>\n",
       "  </thead>\n",
       "  <tbody>\n",
       "    <tr>\n",
       "      <th>0</th>\n",
       "      <td>2.041393</td>\n",
       "    </tr>\n",
       "    <tr>\n",
       "      <th>1</th>\n",
       "      <td>2.021189</td>\n",
       "    </tr>\n",
       "    <tr>\n",
       "      <th>2</th>\n",
       "      <td>2.060698</td>\n",
       "    </tr>\n",
       "    <tr>\n",
       "      <th>3</th>\n",
       "      <td>2.079181</td>\n",
       "    </tr>\n",
       "    <tr>\n",
       "      <th>4</th>\n",
       "      <td>2.041393</td>\n",
       "    </tr>\n",
       "    <tr>\n",
       "      <th>5</th>\n",
       "      <td>2.113943</td>\n",
       "    </tr>\n",
       "    <tr>\n",
       "      <th>6</th>\n",
       "      <td>2.176091</td>\n",
       "    </tr>\n",
       "    <tr>\n",
       "      <th>7</th>\n",
       "      <td>2.000000</td>\n",
       "    </tr>\n",
       "    <tr>\n",
       "      <th>8</th>\n",
       "      <td>2.021189</td>\n",
       "    </tr>\n",
       "  </tbody>\n",
       "</table>\n",
       "</div>"
      ],
      "text/plain": [
       "      price\n",
       "0  2.041393\n",
       "1  2.021189\n",
       "2  2.060698\n",
       "3  2.079181\n",
       "4  2.041393\n",
       "5  2.113943\n",
       "6  2.176091\n",
       "7  2.000000\n",
       "8  2.021189"
      ]
     },
     "execution_count": 6,
     "metadata": {},
     "output_type": "execute_result"
    }
   ],
   "source": [
    "import numpy as np\n",
    "from sklearn.preprocessing import FunctionTransformer\n",
    "transformer = FunctionTransformer(np.log10)\n",
    "x4=transformer.transform(x4)\n",
    "x4"
   ]
  },
  {
   "cell_type": "code",
   "execution_count": 7,
   "id": "92859b1c",
   "metadata": {},
   "outputs": [
    {
     "name": "stdout",
     "output_type": "stream",
     "text": [
      "   price  natural_log\n",
      "0    110     2.041393\n",
      "1    105     2.021189\n",
      "2    115     2.060698\n",
      "3    120     2.079181\n",
      "4    110     2.041393\n",
      "5    130     2.113943\n",
      "6    150     2.176091\n",
      "7    100     2.000000\n",
      "8    105     2.021189\n"
     ]
    }
   ],
   "source": [
    "import numpy as np\n",
    "x5['natural_log'] = np.log10(x5['price']) \n",
    "print(x5)"
   ]
  },
  {
   "cell_type": "markdown",
   "id": "69314723",
   "metadata": {},
   "source": [
    "# manual"
   ]
  },
  {
   "cell_type": "code",
   "execution_count": 8,
   "id": "046d41b6",
   "metadata": {},
   "outputs": [
    {
     "name": "stdout",
     "output_type": "stream",
     "text": [
      "      price\n",
      "0  2.041393\n",
      "1  2.021189\n",
      "2  2.060698\n",
      "3  2.079181\n",
      "4  2.041393\n",
      "5  2.113943\n",
      "6  2.176091\n",
      "7  2.000000\n",
      "8  2.021189\n"
     ]
    }
   ],
   "source": [
    "import numpy as np\n",
    "for col in x6:\n",
    "    \n",
    "    for i in range(len(x6[col])):\n",
    "        c1=x6[col]\n",
    "        a=(c1[i])\n",
    "        a=np.log10(c1[i])\n",
    "        (c1[i])=a\n",
    "        \n",
    "    x6[col]=c1\n",
    "    \n",
    "print(x6)\n",
    "        \n",
    "       \n"
   ]
  },
  {
   "cell_type": "markdown",
   "id": "190cb37b",
   "metadata": {},
   "source": [
    "# Robust Scaler"
   ]
  },
  {
   "cell_type": "markdown",
   "id": "2e321b4e",
   "metadata": {},
   "source": [
    "# sklearn"
   ]
  },
  {
   "cell_type": "code",
   "execution_count": 9,
   "id": "8db35ecb",
   "metadata": {},
   "outputs": [
    {
     "data": {
      "text/plain": [
       "array([[ 0.        ],\n",
       "       [-0.33333333],\n",
       "       [ 0.33333333],\n",
       "       [ 0.66666667],\n",
       "       [ 0.        ],\n",
       "       [ 1.33333333],\n",
       "       [ 2.66666667],\n",
       "       [-0.66666667],\n",
       "       [-0.33333333]])"
      ]
     },
     "execution_count": 9,
     "metadata": {},
     "output_type": "execute_result"
    }
   ],
   "source": [
    "x77=x7\n",
    "from sklearn.preprocessing import RobustScaler\n",
    "RoSc=RobustScaler()\n",
    "robust_df = RoSc.fit_transform(x7)\n",
    "x7=robust_df \n",
    "x7"
   ]
  },
  {
   "cell_type": "markdown",
   "id": "aeda8733",
   "metadata": {},
   "source": [
    "# Manual"
   ]
  },
  {
   "cell_type": "code",
   "execution_count": 18,
   "id": "f489459b",
   "metadata": {},
   "outputs": [
    {
     "name": "stdout",
     "output_type": "stream",
     "text": [
      "      price\n",
      "0  0.000000\n",
      "1 -0.333333\n",
      "2  0.333333\n",
      "3  0.666667\n",
      "4  0.000000\n",
      "5  1.333333\n",
      "6  2.666667\n",
      "7 -0.666667\n",
      "8 -0.333333\n"
     ]
    }
   ],
   "source": [
    "x8\n",
    "\n",
    "Median=x8['price'].quantile(q=0.5)\n",
    "twenty_fifth_percentile=x8['price'].quantile(q=0.25)\n",
    "Seventy_fifth_percentile=x8['price'].quantile(q=0.75)\n",
    "\n",
    "for col in x8:\n",
    "    c2=x8[col]\n",
    "    \n",
    "    for i in range(len(c2)):\n",
    "        a=c2[i]\n",
    "        a=a-Median\n",
    "        diff=Seventy_fifth_percentile-twenty_fifth_percentile\n",
    "        x_scale=a/diff\n",
    "        c2[i]=x_scale\n",
    "    x8[col]=c2\n",
    "print(x8)"
   ]
  },
  {
   "cell_type": "markdown",
   "id": "755f4eb9",
   "metadata": {},
   "source": [
    "# Max Absolute Scaler"
   ]
  },
  {
   "cell_type": "markdown",
   "id": "3ac222ae",
   "metadata": {},
   "source": [
    "# sklearn"
   ]
  },
  {
   "cell_type": "code",
   "execution_count": 23,
   "id": "d8c83392",
   "metadata": {},
   "outputs": [
    {
     "data": {
      "text/plain": [
       "array([[0.73333333],\n",
       "       [0.7       ],\n",
       "       [0.76666667],\n",
       "       [0.8       ],\n",
       "       [0.73333333],\n",
       "       [0.86666667],\n",
       "       [1.        ],\n",
       "       [0.66666667],\n",
       "       [0.7       ]])"
      ]
     },
     "execution_count": 23,
     "metadata": {},
     "output_type": "execute_result"
    }
   ],
   "source": [
    "from sklearn.preprocessing import MaxAbsScaler\n",
    "scaler = MaxAbsScaler()\n",
    "\n",
    "model = scaler .fit(x9)\n",
    "model\n",
    "x9=model.transform(x9)\n",
    "\n",
    "x9"
   ]
  },
  {
   "cell_type": "markdown",
   "id": "28783e89",
   "metadata": {},
   "source": [
    "# Manual"
   ]
  },
  {
   "cell_type": "code",
   "execution_count": 35,
   "id": "5ce20955",
   "metadata": {},
   "outputs": [
    {
     "name": "stdout",
     "output_type": "stream",
     "text": [
      "      price\n",
      "0  0.733333\n",
      "1  0.700000\n",
      "2  0.766667\n",
      "3  0.800000\n",
      "4  0.733333\n",
      "5  0.866667\n",
      "6  1.000000\n",
      "7  0.666667\n",
      "8  0.700000\n"
     ]
    }
   ],
   "source": [
    "for col in x11:\n",
    "    c1=x11[col]\n",
    "    m=c1.max()\n",
    "    \n",
    "    for i in range(len(c1)):\n",
    "        \n",
    "        a=c1[i]\n",
    "        a=a/m\n",
    "        \n",
    "        c1[i]=a\n",
    "    \n",
    "    x11[col]=c1\n",
    "    \n",
    "print(x11)\n",
    "        "
   ]
  },
  {
   "cell_type": "code",
   "execution_count": null,
   "id": "10fc2050",
   "metadata": {},
   "outputs": [],
   "source": []
  }
 ],
 "metadata": {
  "kernelspec": {
   "display_name": "Python 3 (ipykernel)",
   "language": "python",
   "name": "python3"
  },
  "language_info": {
   "codemirror_mode": {
    "name": "ipython",
    "version": 3
   },
   "file_extension": ".py",
   "mimetype": "text/x-python",
   "name": "python",
   "nbconvert_exporter": "python",
   "pygments_lexer": "ipython3",
   "version": "3.10.9"
  }
 },
 "nbformat": 4,
 "nbformat_minor": 5
}
